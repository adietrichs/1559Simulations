{
 "cells": [
  {
   "cell_type": "code",
   "execution_count": 1,
   "metadata": {
    "collapsed": true
   },
   "outputs": [],
   "source": [
    "import heapq\n",
    "import itertools"
   ]
  },
  {
   "cell_type": "code",
   "execution_count": 2,
   "outputs": [],
   "source": [
    "class Transaction:\n",
    "    def __init__(self, sender, nonce, gas_price):\n",
    "        self.sender = sender\n",
    "        self.nonce = nonce\n",
    "        self.gas_price = float(gas_price)\n",
    "\n",
    "        self.hash = abs(hash(sender + hash(str(nonce)) + hash(self.gas_price)))\n",
    "\n",
    "    def __hash__(self):\n",
    "        return self.hash\n",
    "\n",
    "    def __str__(self):\n",
    "        return f\"Tx<0x{self.hash:016x}>(sender=0x{self.sender:016x}, nonce={self.nonce}, gas_price={self.gas_price:.2f})\""
   ],
   "metadata": {
    "collapsed": false,
    "pycharm": {
     "name": "#%%\n"
    }
   }
  },
  {
   "cell_type": "code",
   "execution_count": 3,
   "outputs": [],
   "source": [
    "class PricedHeap:\n",
    "    def __init__(self, tx_pool):\n",
    "        self.tx_pool = tx_pool  # type: TxPool\n",
    "\n",
    "        self.heap = []\n",
    "        self.stales = 0\n",
    "        self.counter = itertools.count()\n",
    "\n",
    "    def __len__(self):\n",
    "        return len(self.heap)\n",
    "\n",
    "    def underpriced(self, tx: Transaction):\n",
    "        return self.heap and self.heap[0][0] >= tx.gas_price\n",
    "\n",
    "    def discard(self, slots):\n",
    "        drop = []\n",
    "        while self.heap and slots:\n",
    "            tx = heapq.heappop(self.heap)[2]\n",
    "            if tx not in self.tx_pool.all:\n",
    "                self.stales -= 1\n",
    "                continue\n",
    "            drop.append(tx)\n",
    "            slots -= 1\n",
    "        return drop\n",
    "\n",
    "    def removed(self, count):\n",
    "        self.stales += count\n",
    "\n",
    "    def put(self, tx: Transaction):\n",
    "        heapq.heappush(self.heap, (tx.gas_price, next(self.counter), tx))"
   ],
   "metadata": {
    "collapsed": false,
    "pycharm": {
     "name": "#%%\n"
    }
   }
  },
  {
   "cell_type": "code",
   "execution_count": 4,
   "outputs": [],
   "source": [
    "class TxSortedMap:\n",
    "    def __init__(self):\n",
    "        self.items = {}  # type: dict[int, Transaction]\n",
    "\n",
    "    def get(self, nonce) -> Transaction:\n",
    "        return self.items.get(nonce)\n",
    "\n",
    "    def put(self, tx: Transaction):\n",
    "        self.items[tx.nonce] = tx\n",
    "\n",
    "    def remove(self, nonce):\n",
    "        try:\n",
    "            self.items.pop(nonce)\n",
    "            return True\n",
    "        except KeyError:\n",
    "            return False\n",
    "\n",
    "    def filter(self, filter):\n",
    "        nonces_to_remove = [nonce for nonce, tx in self.items.items() if filter(tx)]\n",
    "        return [self.items.pop(nonce) for nonce in nonces_to_remove]"
   ],
   "metadata": {
    "collapsed": false,
    "pycharm": {
     "name": "#%%\n"
    }
   }
  },
  {
   "cell_type": "code",
   "execution_count": 5,
   "outputs": [],
   "source": [
    "class TxList:\n",
    "    def __init__(self, strict):\n",
    "        self.strict = strict\n",
    "\n",
    "        self.txs = TxSortedMap()\n",
    "\n",
    "    def __len__(self):\n",
    "        return len(self.txs)\n",
    "\n",
    "    def add(self, tx: Transaction, price_bump):\n",
    "        old = self.txs.get(tx.nonce)\n",
    "        if old and tx.gas_price <= old.gas_price * (100 + price_bump) / 100:\n",
    "            return False, None\n",
    "        self.txs.put(tx)\n",
    "        return True, old\n",
    "\n",
    "    def remove(self, tx: Transaction):\n",
    "        if not self.txs.remove(tx.nonce):\n",
    "            return False, []\n",
    "        if self.strict:\n",
    "            return True, self.txs.filter(lambda other_tx: other_tx.nonce > tx.nonce)\n",
    "        return True, []\n",
    "\n",
    "    def overlaps(self, tx: Transaction):\n",
    "        return self.txs.get(tx.nonce) is not None"
   ],
   "metadata": {
    "collapsed": false,
    "pycharm": {
     "name": "#%%\n"
    }
   }
  },
  {
   "cell_type": "code",
   "execution_count": 6,
   "outputs": [],
   "source": [
    "class TxNoncer:\n",
    "    def __init__(self):\n",
    "        pass\n",
    "\n",
    "    def set_if_lower(self, addr, nonce):\n",
    "        pass"
   ],
   "metadata": {
    "collapsed": false,
    "pycharm": {
     "name": "#%%\n"
    }
   }
  },
  {
   "cell_type": "code",
   "execution_count": 7,
   "outputs": [],
   "source": [
    "class TxPoolConfig:\n",
    "    def __init__(self, price_bump=10, global_slots=4096, global_queue=1024):\n",
    "        self.price_bump = price_bump\n",
    "        self.global_slots = global_slots\n",
    "        self.global_queue = global_queue"
   ],
   "metadata": {
    "collapsed": false,
    "pycharm": {
     "name": "#%%\n"
    }
   }
  },
  {
   "cell_type": "code",
   "execution_count": 8,
   "outputs": [],
   "source": [
    "class TxPool:\n",
    "    def __init__(self, config=TxPoolConfig()):\n",
    "        self.config = config\n",
    "\n",
    "        self.pending_nonces = TxNoncer()\n",
    "\n",
    "        self.pending = {}  # type: dict[int, TxList]\n",
    "        self.queue = {}  # type: dict[int, TxList]\n",
    "        self.priced = PricedHeap(self)\n",
    "        self.all = set()\n",
    "\n",
    "    def add_txs(self, txs: list[Transaction]):\n",
    "        for tx in txs:\n",
    "            if tx in self.all:\n",
    "                continue\n",
    "            total_slots = self.config.global_slots + self.config.global_queue\n",
    "            if len(self.all) >= total_slots:\n",
    "                if self.priced.underpriced(tx):\n",
    "                    continue\n",
    "                drop = self.priced.discard(len(self.all) - total_slots + 1)\n",
    "                for drop_tx in drop:\n",
    "                    self.remove_tx(drop_tx, outofbound=False)\n",
    "\n",
    "            tx_list = self.pending.get(tx.sender)\n",
    "            if tx_list and tx_list.overlaps(tx):\n",
    "                inserted, old = tx_list.add(tx, self.config.price_bump)\n",
    "                if not inserted:\n",
    "                    continue\n",
    "                if old:\n",
    "                    self.all.remove(tx)\n",
    "                    self.priced.removed(1)\n",
    "                self.all.add(tx)\n",
    "                self.priced.put(tx)\n",
    "                self.queue_tx_event(tx)\n",
    "                continue\n",
    "\n",
    "            self.enqueue_tx(tx)\n",
    "\n",
    "\n",
    "    def remove_tx(self, tx: Transaction, outofbound):\n",
    "        self.all.remove(tx)\n",
    "        if outofbound:\n",
    "            self.priced.removed(1)\n",
    "\n",
    "        try:\n",
    "            pending = self.pending[tx.sender]\n",
    "            removed, invalids = pending.remove(tx)\n",
    "            if removed:\n",
    "                if not len(pending):\n",
    "                    del self.pending[tx.sender]\n",
    "                for tx in invalids:\n",
    "                    self.enqueue_tx(tx)\n",
    "                self.pending_nonces.set_if_lower(tx.sender, tx.nonce)\n",
    "                return\n",
    "        except KeyError:\n",
    "            pass\n",
    "\n",
    "        try:\n",
    "            future = self.queue[tx.sender]\n",
    "            if future.remove(tx)[0]:\n",
    "                if not len(future):\n",
    "                    del self.queue[tx.sender]\n",
    "        except KeyError:\n",
    "            pass\n",
    "\n",
    "    def enqueue_tx(self, tx):\n",
    "        try:\n",
    "            tx_list = self.queue[tx.sender]\n",
    "        except KeyError:\n",
    "            tx_list = TxList(False)\n",
    "            self.queue[tx.sender] = tx_list\n",
    "        inserted, old = tx_list.add(tx, self.config.price_bump)\n",
    "        if not inserted:\n",
    "            return\n",
    "        if old:\n",
    "            self.all.remove(old)\n",
    "            self.priced.removed(1)\n",
    "\n",
    "        if tx not in self.all:\n",
    "            self.all.add(tx)\n",
    "            self.priced.put(tx)\n",
    "\n",
    "    def queue_tx_event(self, tx):\n",
    "        pass"
   ],
   "metadata": {
    "collapsed": false,
    "pycharm": {
     "name": "#%%\n"
    }
   }
  },
  {
   "cell_type": "code",
   "execution_count": 9,
   "outputs": [
    {
     "name": "stdout",
     "output_type": "stream",
     "text": [
      "Tx<0x141a72b974902ce5>(sender=0x7c2596bc8fe6ecce, nonce=0, gas_price=11.50)\n",
      "Tx<0x184b2d791fcdd9ab>(sender=0x7c2596bc8fe6ecce, nonce=2, gas_price=8.00)\n",
      "Tx<0x0e2fb09d82c5e60e>(sender=0x47f4dbfce4a94006, nonce=1, gas_price=7.00)\n",
      "Tx<0x04961703e92c4e0f>(sender=0x-39c52b5f61e359ff, nonce=0, gas_price=7.70)\n",
      "Tx<0x004fcc91f8ccdbb8>(sender=0x-39c52b5f61e359ff, nonce=4, gas_price=9.00)\n",
      "Tx<0x0fe9b7f9c952801a>(sender=0x47f4dbfce4a94006, nonce=0, gas_price=10.00)\n"
     ]
    }
   ],
   "source": [
    "mempool = TxPool()\n",
    "\n",
    "# initial transactions\n",
    "mempool.add_txs([\n",
    "    Transaction(sender=hash(\"0\"), nonce=0, gas_price=10),\n",
    "    Transaction(sender=hash(\"1\"), nonce=0, gas_price=4.3),\n",
    "    Transaction(sender=hash(\"2\"), nonce=0, gas_price=11.5),\n",
    "])\n",
    "\n",
    "# replacements\n",
    "mempool.add_txs([\n",
    "    Transaction(sender=hash(\"0\"), nonce=0, gas_price=10.5),\n",
    "    Transaction(sender=hash(\"1\"), nonce=0, gas_price=7.7),\n",
    "    Transaction(sender=hash(\"2\"), nonce=0, gas_price=9),\n",
    "])\n",
    "\n",
    "# higher nonces\n",
    "mempool.add_txs([\n",
    "    Transaction(sender=hash(\"0\"), nonce=1, gas_price=7),\n",
    "    Transaction(sender=hash(\"1\"), nonce=4, gas_price=9),\n",
    "    Transaction(sender=hash(\"2\"), nonce=2, gas_price=8),\n",
    "])\n",
    "\n",
    "for tx in mempool.all:\n",
    "    print(tx)\n"
   ],
   "metadata": {
    "collapsed": false,
    "pycharm": {
     "name": "#%%\n"
    }
   }
  }
 ],
 "metadata": {
  "kernelspec": {
   "display_name": "Python 3",
   "language": "python",
   "name": "python3"
  },
  "language_info": {
   "codemirror_mode": {
    "name": "ipython",
    "version": 2
   },
   "file_extension": ".py",
   "mimetype": "text/x-python",
   "name": "python",
   "nbconvert_exporter": "python",
   "pygments_lexer": "ipython2",
   "version": "2.7.6"
  }
 },
 "nbformat": 4,
 "nbformat_minor": 0
}