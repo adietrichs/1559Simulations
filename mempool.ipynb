{
 "cells": [
  {
   "cell_type": "code",
   "execution_count": 1,
   "metadata": {
    "collapsed": true
   },
   "outputs": [],
   "source": [
    "import asyncio\n",
    "from tx_pool import TxPool\n",
    "from transaction import Transaction"
   ]
  },
  {
   "cell_type": "code",
   "execution_count": 2,
   "outputs": [
    {
     "name": "stdout",
     "output_type": "stream",
     "text": [
      "reorg loop start\n",
      "request promote: 0x6e84ffc7a4b3c9bf 0x60fbc3b458369609 0x3bd41baa9617c5b6\n",
      "reorg loop start\n",
      "request promote: 0x6e84ffc7a4b3c9bf 0x60fbc3b458369609 0x3bd41baa9617c5b6\n",
      "reorg loop start\n",
      "loop start\n",
      "Tx<0x07e270b52d7145c0>(sender=0x60fbc3b458369609, nonce=0, gas_price=11.50)\n",
      "Tx<0x12bac8ab6b52756a>(sender=0x3bd41baa9617c5b6, nonce=0, gas_price=10.00)\n",
      "Tx<0x116e578e5cc0faad>(sender=0x6e84ffc7a4b3c9bf, nonce=4, gas_price=9.00)\n",
      "Tx<0x1bd2132ee054e172>(sender=0x6e84ffc7a4b3c9bf, nonce=0, gas_price=7.70)\n",
      "Tx<0x1857a9d8b3004c99>(sender=0x3bd41baa9617c5b6, nonce=1, gas_price=7.00)\n",
      "Tx<0x1b0751952210f67b>(sender=0x60fbc3b458369609, nonce=2, gas_price=8.00)\n",
      "loop shutdown\n",
      "loop exit\n"
     ]
    }
   ],
   "source": [
    "mempool = TxPool()\n",
    "accounts = [abs(hash(f\"a{i}\")) for i in range(10)]\n",
    "\n",
    "# initial transactions\n",
    "mempool.add_txs([\n",
    "    Transaction(sender=accounts[0], nonce=0, gas_price=10),\n",
    "    Transaction(sender=accounts[1], nonce=0, gas_price=4.3),\n",
    "    Transaction(sender=accounts[2], nonce=0, gas_price=11.5),\n",
    "])\n",
    "\n",
    "# replacements\n",
    "mempool.add_txs([\n",
    "    Transaction(sender=accounts[0], nonce=0, gas_price=10.5),\n",
    "    Transaction(sender=accounts[1], nonce=0, gas_price=7.7),\n",
    "    Transaction(sender=accounts[2], nonce=0, gas_price=9),\n",
    "])\n",
    "\n",
    "# higher nonces\n",
    "mempool.add_txs([\n",
    "    Transaction(sender=accounts[0], nonce=1, gas_price=7),\n",
    "    Transaction(sender=accounts[1], nonce=4, gas_price=9),\n",
    "    Transaction(sender=accounts[2], nonce=2, gas_price=8),\n",
    "])\n",
    "\n",
    "await asyncio.sleep(1)\n",
    "\n",
    "for tx in mempool.all:\n",
    "    print(tx)\n",
    "\n",
    "mempool.shutdown_ch.send()\n",
    "await mempool.loop_task"
   ],
   "metadata": {
    "collapsed": false,
    "pycharm": {
     "name": "#%%\n"
    }
   }
  }
 ],
 "metadata": {
  "kernelspec": {
   "display_name": "Python 3",
   "language": "python",
   "name": "python3"
  },
  "language_info": {
   "codemirror_mode": {
    "name": "ipython",
    "version": 2
   },
   "file_extension": ".py",
   "mimetype": "text/x-python",
   "name": "python",
   "nbconvert_exporter": "python",
   "pygments_lexer": "ipython2",
   "version": "2.7.6"
  }
 },
 "nbformat": 4,
 "nbformat_minor": 0
}